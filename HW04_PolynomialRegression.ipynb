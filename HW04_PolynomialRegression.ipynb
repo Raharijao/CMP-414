{
  "nbformat": 4,
  "nbformat_minor": 0,
  "metadata": {
    "colab": {
      "name": "HW04_PolynomialRegression",
      "provenance": [],
      "collapsed_sections": [],
      "include_colab_link": true
    },
    "kernelspec": {
      "name": "python3",
      "display_name": "Python 3"
    },
    "language_info": {
      "name": "python"
    }
  },
  "cells": [
    {
      "cell_type": "markdown",
      "metadata": {
        "id": "view-in-github",
        "colab_type": "text"
      },
      "source": [
        "<a href=\"https://colab.research.google.com/github/Raharijao/CMP-414/blob/main/HW04_PolynomialRegression.ipynb\" target=\"_parent\"><img src=\"https://colab.research.google.com/assets/colab-badge.svg\" alt=\"Open In Colab\"/></a>"
      ]
    },
    {
      "cell_type": "markdown",
      "source": [
        "# Homework 4\n",
        "This homework assignment will build three polynomial models on the same dataset and compare their performance. You can use tools from `sklearn` to complete this task."
      ],
      "metadata": {
        "id": "5HCnwhZ1OABm"
      }
    },
    {
      "cell_type": "code",
      "execution_count": null,
      "metadata": {
        "id": "qq3fSlX2M11C"
      },
      "outputs": [],
      "source": [
        "import numpy as np\n",
        "import pandas as pd\n",
        "import matplotlib.pyplot as plt\n",
        "%matplotlib inline"
      ]
    },
    {
      "cell_type": "code",
      "source": [
        "# Generate a data set X and Y\n",
        "m = 100\n",
        "X = 6 * np.random.rand(m, 1) - 3\n",
        "Y = 4 * X ** 3 + 5 * X ** 2 + X + 2 + np.random.randn(m, 1)\n",
        "plt.plot(X, Y, 'c.')"
      ],
      "metadata": {
        "colab": {
          "base_uri": "https://localhost:8080/",
          "height": 282
        },
        "id": "BuvOOrXpNMNS",
        "outputId": "afaefa10-0bfa-4298-a8a3-ec5d6127e9b5"
      },
      "execution_count": null,
      "outputs": [
        {
          "output_type": "execute_result",
          "data": {
            "text/plain": [
              "[<matplotlib.lines.Line2D at 0x7f2501dd5810>]"
            ]
          },
          "metadata": {},
          "execution_count": 52
        },
        {
          "output_type": "display_data",
          "data": {
            "text/plain": [
              "<Figure size 432x288 with 1 Axes>"
            ],
            "image/png": "[encoded data removed]"
          },
          "metadata": {
            "needs_background": "light"
          }
        }
      ]
    },
    {
      "cell_type": "markdown",
      "source": [
        "1. Use train_test_split to split the data into training set (80%) and test set (20%)."
      ],
      "metadata": {
        "id": "sExzZNA2NOOt"
      }
    },
    {
      "cell_type": "code",
      "source": [
        "from sklearn.model_selection import train_test_split\n",
        "from sklearn.linear_model import LinearRegression\n",
        "from sklearn.preprocessing import PolynomialFeatures\n",
        "from sklearn.metrics import mean_squared_error\n",
        "#X_train, X_test, Y_train, Y_test = train_test_split(X, Y, test_size=0.2)"
      ],
      "metadata": {
        "id": "utPAJCUjNaId"
      },
      "execution_count": null,
      "outputs": []
    },
    {
      "cell_type": "code",
      "source": [
        "# Alternatively, you may create a pandas data frame to include both X and Y\n",
        "data = np.hstack([X, Y])\n",
        "df = pd.DataFrame(data, columns=['X', 'Y'])\n",
        "X_train, X_test = train_test_split(df, test_size=0.2)\n"
      ],
      "metadata": {
        "id": "hmX82EpRXMob"
      },
      "execution_count": null,
      "outputs": []
    },
    {
      "cell_type": "markdown",
      "source": [
        "2. Build a degree 2 polynomial regression model with `X` as input variables and `Y` as output variable. Name the model model_pr2. Train the model on the training set and obtain the MSE on the test set."
      ],
      "metadata": {
        "id": "KTj0wOzmNc9W"
      }
    },
    {
      "cell_type": "code",
      "source": [
        "model_pr2 = LinearRegression()\n",
        "poly_features = PolynomialFeatures(degree=2, include_bias=False)\n",
        "train_poly = poly_features.fit_transform(X_train[['X']])\n",
        "test_poly = poly_features.fit_transform(X_test[['X']])\n",
        "model_pr2.fit(train_poly, X_train['Y'])\n",
        "\n",
        "y_pred = model_pr2.predict(test_poly)\n",
        "plt.plot(X_test['X'], y_pred, 'c.')\n",
        "mse = mean_squared_error(X_test['Y'], y_pred)\n",
        "print(\"Test MSE:\", mse)\n",
        "\n"
      ],
      "metadata": {
        "colab": {
          "base_uri": "https://localhost:8080/",
          "height": 282
        },
        "id": "Ztda3E1TSUv0",
        "outputId": "1926de8e-7d54-4889-f6f1-2bd2d1e1244b"
      },
      "execution_count": null,
      "outputs": [
        {
          "output_type": "stream",
          "name": "stdout",
          "text": [
            "Test MSE: 211.665226700524\n"
          ]
        },
        {
          "output_type": "display_data",
          "data": {
            "text/plain": [
              "<Figure size 432x288 with 1 Axes>"
            ],
            "image/png": "[encoded data removed]"
          },
          "metadata": {
            "needs_background": "light"
          }
        }
      ]
    },
    {
      "cell_type": "markdown",
      "source": [
        "3. Build a degree 3 polynomial regression model with `X` as input variables and `Y` as output variable. Name the model model_pr3. Train the model on the training set and  obtain the MSE on the test set."
      ],
      "metadata": {
        "id": "pkG-uXoENd1T"
      }
    },
    {
      "cell_type": "code",
      "source": [
        "model_pr3 = LinearRegression()\n",
        "poly_features = PolynomialFeatures(degree=3, include_bias=False)\n",
        "train_poly = poly_features.fit_transform(X_train[['X']])\n",
        "test_poly = poly_features.fit_transform(X_test[['X']])\n",
        "model_pr3.fit(train_poly, X_train['Y'])\n",
        "\n",
        "y_pred = model_pr3.predict(test_poly)\n",
        "plt.plot(X_test['X'], y_pred, 'c.')\n",
        "mse = mean_squared_error(X_test['Y'], y_pred)\n",
        "print(\"Test MSE:\", mse)"
      ],
      "metadata": {
        "id": "OuxT6hlgN2eE",
        "colab": {
          "base_uri": "https://localhost:8080/",
          "height": 282
        },
        "outputId": "e57f4438-bc37-4935-da5a-3bca76f69712"
      },
      "execution_count": null,
      "outputs": [
        {
          "output_type": "stream",
          "name": "stdout",
          "text": [
            "Test MSE: 1.108815921640288\n"
          ]
        },
        {
          "output_type": "display_data",
          "data": {
            "text/plain": [
              "<Figure size 432x288 with 1 Axes>"
            ],
            "image/png": "[encoded data removed]"
          },
          "metadata": {
            "needs_background": "light"
          }
        }
      ]
    },
    {
      "cell_type": "markdown",
      "source": [
        "4. Build a degree 10 polynomial regression model with `X` as input variables and `Y` as output variable. Name the model model_pr10. Train the model on the training set and  obtain the MSE on the test set."
      ],
      "metadata": {
        "id": "7TubsDvaN2uW"
      }
    },
    {
      "cell_type": "code",
      "source": [
        "model_pr10 = LinearRegression()\n",
        "poly_features = PolynomialFeatures(degree=10, include_bias=False)\n",
        "train_poly = poly_features.fit_transform(X_train[['X']])\n",
        "test_poly = poly_features.fit_transform(X_test[['X']])\n",
        "model_pr10.fit(train_poly, X_train['Y'])\n",
        "\n",
        "y_pred = model_pr10.predict(test_poly)\n",
        "plt.plot(X_test['X'], y_pred, 'c.')\n",
        "mse = mean_squared_error(X_test['Y'], y_pred)\n",
        "print(\"Test MSE:\", mse)"
      ],
      "metadata": {
        "id": "YOfkQGlWN8nG",
        "colab": {
          "base_uri": "https://localhost:8080/",
          "height": 282
        },
        "outputId": "654f8115-0b1b-4684-8e07-e8a983f66565"
      },
      "execution_count": null,
      "outputs": [
        {
          "output_type": "stream",
          "name": "stdout",
          "text": [
            "Test MSE: 1.1971158303684208\n"
          ]
        },
        {
          "output_type": "display_data",
          "data": {
            "text/plain": [
              "<Figure size 432x288 with 1 Axes>"
            ],
            "image/png": "[encoded data removed]"
          },
          "metadata": {
            "needs_background": "light"
          }
        }
      ]
    }
  ]
}